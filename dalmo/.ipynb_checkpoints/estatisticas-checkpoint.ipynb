{
 "cells": [
  {
   "cell_type": "code",
   "execution_count": 1,
   "metadata": {},
   "outputs": [],
   "source": [
    "import mysql\n",
    "import mysql.connector"
   ]
  },
  {
   "cell_type": "code",
   "execution_count": 2,
   "metadata": {},
   "outputs": [],
   "source": [
    "#Classe de conexao ao banco de dados mysql\n",
    "class bancoMysql():\n",
    "    def __init__(self):\n",
    "        global cnx\n",
    "        \n",
    "    def abreConexao(self):\n",
    "        import mysql\n",
    "\n",
    "        #configuração do servidor\n",
    "        config = {\n",
    "            'user': 'root',\n",
    "            'password': '12345678',\n",
    "            'host': 'localhost',\n",
    "            'database': 'eleicoes',\n",
    "            'raise_on_warnings': True,\n",
    "        }    \n",
    "        #conectando na base\n",
    "        self.cnx = mysql.connector.connect(**config)\n",
    "        \n",
    "    def executaQueryGenerica(self,cnx,sqlQuery,parametros):\n",
    "        #cria cursor para execução e parse\n",
    "        cursor = self.cnx.cursor()\n",
    "        cursor.execute(sqlQuery,parametros)\n",
    "        self.cnx.commit()\n",
    "        cursor.close()\n",
    "        return True;        \n",
    "    \n",
    "    def getAllRows(self,sql,parametros):\n",
    "        cursor = self.cnx.cursor(dictionary=True)\n",
    "        query = (sql)\n",
    "        cursor.execute(query,parametros)\n",
    "        arrDados = cursor.fetchall()\n",
    "        cursor.close()\n",
    "        return arrDados\n",
    "\n",
    "    def fechaConexao(self):\n",
    "        self.cnx.close()   "
   ]
  },
  {
   "cell_type": "code",
   "execution_count": 3,
   "metadata": {},
   "outputs": [],
   "source": [
    "objBanco = bancoMysql()\n",
    "objBanco.abreConexao()"
   ]
  },
  {
   "cell_type": "code",
   "execution_count": 4,
   "metadata": {},
   "outputs": [],
   "source": [
    "sql = \"\"\"\n",
    "    SELECT\n",
    "        x.dt_cadastro_f,\n",
    "        CONCAT(SUBSTR(x.dt_cadastro_f,7,2),'-',SUBSTR(x.dt_cadastro_f,5,2),'-',SUBSTR(x.dt_cadastro_f,1,4),' ',SUBSTR(x.dt_cadastro_f,9,2),'hs') ano_dia_hora_f,\n",
    "        CONCAT(SUBSTR(x.dt_cadastro_f,7,2),'d ',SUBSTR(x.dt_cadastro_f,9,2),'h') dia_hora_f,\n",
    "        COUNT(x.id_twitter) as qtd\n",
    "    FROM\n",
    "        (\n",
    "        SELECT\n",
    "            date_format(T1.dt_cadastro, '%Y%m%d%H') dt_cadastro_f,\n",
    "            SUBSTR(t1.twitter,56,19) AS ID_TWITTER\n",
    "        FROM \n",
    "            eleicoes.tb_twitter t1\n",
    "        WHERE\n",
    "            date_format(T1.dt_cadastro, '%Y%m%d%H') >= '2018081700'\n",
    "        ) x\n",
    "    GROUP BY\n",
    "        x.dt_cadastro_f,\n",
    "        dia_hora_f\n",
    "    ORDER BY\n",
    "        1\n",
    "\"\"\"\n",
    "parametros = ()"
   ]
  },
  {
   "cell_type": "code",
   "execution_count": 5,
   "metadata": {},
   "outputs": [],
   "source": [
    "arrDados = objBanco.getAllRows(sql,parametros)\n",
    "objBanco.fechaConexao()"
   ]
  },
  {
   "cell_type": "code",
   "execution_count": 6,
   "metadata": {},
   "outputs": [],
   "source": [
    "import matplotlib.pyplot as plt\n",
    "%matplotlib inline\n"
   ]
  },
  {
   "cell_type": "code",
   "execution_count": 7,
   "metadata": {
    "scrolled": true
   },
   "outputs": [
    {
     "data": {
      "image/png": "[encoded data removed]",
      "text/plain": [
       "<matplotlib.figure.Figure at 0x27a0b359eb8>"
      ]
     },
     "metadata": {},
     "output_type": "display_data"
    }
   ],
   "source": [
    "gY = []\n",
    "gX = []\n",
    "for rowDados in arrDados:\n",
    "    gY.append(rowDados['qtd'])\n",
    "    gX.append(rowDados['dia_hora_f'])\n",
    "\n",
    "axes = plt.subplots(1, figsize=(17,5))\n",
    "\n",
    "plt.xlabel('dia hora')\n",
    "plt.ylabel('twitts')\n",
    "plt.bar(gX, gY, color = 'g')\n",
    "plt.xticks(rotation=90)\n",
    "plt.grid(which='both', axis='y', linestyle='--')\n",
    "plt.show()"
   ]
  },
  {
   "cell_type": "code",
   "execution_count": null,
   "metadata": {},
   "outputs": [],
   "source": []
  },
  {
   "cell_type": "code",
   "execution_count": null,
   "metadata": {},
   "outputs": [],
   "source": []
  }
 ],
 "metadata": {
  "kernelspec": {
   "display_name": "Python 3",
   "language": "python",
   "name": "python3"
  },
  "language_info": {
   "codemirror_mode": {
    "name": "ipython",
    "version": 3
   },
   "file_extension": ".py",
   "mimetype": "text/x-python",
   "name": "python",
   "nbconvert_exporter": "python",
   "pygments_lexer": "ipython3",
   "version": "3.6.4"
  }
 },
 "nbformat": 4,
 "nbformat_minor": 2
}
