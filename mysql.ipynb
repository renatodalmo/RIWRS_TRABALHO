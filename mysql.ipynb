{
 "cells": [
  {
   "cell_type": "code",
   "execution_count": null,
   "metadata": {},
   "outputs": [],
   "source": [
    "import mysql"
   ]
  },
  {
   "cell_type": "code",
   "execution_count": 46,
   "metadata": {},
   "outputs": [],
   "source": [
    "def abreConexao():\n",
    "    #configuração do servidor\n",
    "    config = {\n",
    "        'user': 'xxx',\n",
    "        'password': 'xxx',\n",
    "        'host': 'xxx',\n",
    "        'database': 'xxx',\n",
    "        'raise_on_warnings': True,\n",
    "    }    \n",
    "    #conectando na base\n",
    "    cnx = mysql.connector.connect(**config)\n",
    "    return cnx"
   ]
  },
  {
   "cell_type": "code",
   "execution_count": 52,
   "metadata": {},
   "outputs": [],
   "source": [
    "def executaQueryGenerica(cnx,sqlQuery):\n",
    "    #cria cursor para execução e parse\n",
    "    cursor = cnx.cursor()\n",
    "    cursor.execute(sqlQuery)\n",
    "    cnx.commit()\n",
    "    cursor.close()\n",
    "    return True;"
   ]
  },
  {
   "cell_type": "code",
   "execution_count": 54,
   "metadata": {},
   "outputs": [],
   "source": [
    "def fechaConexao(cnx):\n",
    "    cnx.close()    "
   ]
  },
  {
   "cell_type": "code",
   "execution_count": 64,
   "metadata": {},
   "outputs": [],
   "source": [
    "conexao = abreConexao()\n",
    "sqlQuery = \"INSERT INTO eleicoes.tb_twitter (twitter) VALUES ('teste python');\"\n",
    "executaQueryGenerica(conexao,sqlQuery)\n",
    "fechaConexao(cnx)\n",
    "\n",
    "\n"
   ]
  }
 ],
 "metadata": {
  "kernelspec": {
   "display_name": "Python 3",
   "language": "python",
   "name": "python3"
  },
  "language_info": {
   "codemirror_mode": {
    "name": "ipython",
    "version": 3
   },
   "file_extension": ".py",
   "mimetype": "text/x-python",
   "name": "python",
   "nbconvert_exporter": "python",
   "pygments_lexer": "ipython3",
   "version": "3.6.3"
  }
 },
 "nbformat": 4,
 "nbformat_minor": 2
}
